{
 "cells": [
  {
   "cell_type": "markdown",
   "id": "bca1ff5e",
   "metadata": {},
   "source": [
    "读入ROOT文件，将tu,td以及ctof，cx存入新的ROOT文件。其中ctof=(tu+td)/2，cx=(tu-td)/2。"
   ]
  },
  {
   "cell_type": "code",
   "execution_count": 1,
   "id": "87cfc396",
   "metadata": {},
   "outputs": [
    {
     "name": "stdout",
     "output_type": "stream",
     "text": [
      "******************************************************************************\n",
      "*Tree    :tree      : tree structure                                         *\n",
      "*Entries :   100000 : Total =         8428001 bytes  File  Size =    7138415 *\n",
      "*        :          : Tree compression factor =   1.18                       *\n",
      "******************************************************************************\n",
      "*Br    0 :X         : X/D                                                    *\n",
      "*Entries :   100000 : Total  Size=     802585 bytes  File Size  =     758680 *\n",
      "*Baskets :       26 : Basket Size=      32000 bytes  Compression=   1.06     *\n",
      "*............................................................................*\n",
      "*Br    1 :Y         : Y/D                                                    *\n",
      "*Entries :   100000 : Total  Size=     802585 bytes  File Size  =     559683 *\n",
      "*Baskets :       26 : Basket Size=      32000 bytes  Compression=   1.43     *\n",
      "*............................................................................*\n",
      "*Br    2 :d         : d/D                                                    *\n",
      "*Entries :   100000 : Total  Size=     802585 bytes  File Size  =     693807 *\n",
      "*Baskets :       26 : Basket Size=      32000 bytes  Compression=   1.16     *\n",
      "*............................................................................*\n",
      "*Br    3 :E         : E/D                                                    *\n",
      "*Entries :   100000 : Total  Size=     802585 bytes  File Size  =     564848 *\n",
      "*Baskets :       26 : Basket Size=      32000 bytes  Compression=   1.42     *\n",
      "*............................................................................*\n",
      "*Br    4 :TOF       : TOF/D                                                  *\n",
      "*Entries :   100000 : Total  Size=     802645 bytes  File Size  =     739997 *\n",
      "*Baskets :       26 : Basket Size=      32000 bytes  Compression=   1.08     *\n",
      "*............................................................................*\n",
      "*Br    5 :CTOF      : CTOF/D                                                 *\n",
      "*Entries :   100000 : Total  Size=     802675 bytes  File Size  =     741508 *\n",
      "*Baskets :       26 : Basket Size=      32000 bytes  Compression=   1.08     *\n",
      "*............................................................................*\n",
      "*Br    6 :pID       : pID/I                                                  *\n",
      "*Entries :   100000 : Total  Size=     401467 bytes  File Size  =      42432 *\n",
      "*Baskets :       13 : Basket Size=      32000 bytes  Compression=   9.45     *\n",
      "*............................................................................*\n",
      "*Br    7 :Tu        : Tu/D                                                   *\n",
      "*Entries :   100000 : Total  Size=     802615 bytes  File Size  =     750230 *\n",
      "*Baskets :       26 : Basket Size=      32000 bytes  Compression=   1.07     *\n",
      "*............................................................................*\n",
      "*Br    8 :Td        : Td/D                                                   *\n",
      "*Entries :   100000 : Total  Size=     802615 bytes  File Size  =     745533 *\n",
      "*Baskets :       26 : Basket Size=      32000 bytes  Compression=   1.08     *\n",
      "*............................................................................*\n",
      "*Br    9 :Qu        : Qu/D                                                   *\n",
      "*Entries :   100000 : Total  Size=     802615 bytes  File Size  =     769384 *\n",
      "*Baskets :       26 : Basket Size=      32000 bytes  Compression=   1.04     *\n",
      "*............................................................................*\n",
      "*Br   10 :Qd        : Qd/D                                                   *\n",
      "*Entries :   100000 : Total  Size=     802615 bytes  File Size  =     769397 *\n",
      "*Baskets :       26 : Basket Size=      32000 bytes  Compression=   1.04     *\n",
      "*............................................................................*\n"
     ]
    }
   ],
   "source": [
    "TFile *ipf=new TFile(\"tree.root\");//打开ROOT文件\n",
    "if (ipf->IsZombie()) {\n",
    "    cout << \"Error opening file\" << endl;\n",
    "    exit(-1);\n",
    "}\n",
    "ipf->cd();\n",
    "//ipf->ls();\n",
    "TTree *tree=(TTree*)ipf->Get(\"tree\");\n",
    "tree->Print()"
   ]
  },
  {
   "cell_type": "code",
   "execution_count": 2,
   "id": "29c6c3cd",
   "metadata": {},
   "outputs": [],
   "source": [
    "//读root文件\n",
    "Double_t X;//入射x位置\n",
    "Double_t Y;\n",
    "Double_t d;//飞行距离\n",
    "Double_t E;//能量\n",
    "int pID;    //粒子种类，n:pid=1,g:pid=0\n",
    "Double_t TOF, CTOF;//TOF:粒子实际飞行时间，cTOF：计算得到的TOF\n",
    "Double_t Tu, Td;\n",
    "Double_t Qu, Qd;\n",
    "tree->SetBranchAddress(\"CTOF\",&CTOF);\n",
    "tree->SetBranchAddress(\"TOF\",&TOF);  \n",
    "tree->SetBranchAddress(\"pID\",&pID);\n",
    "tree->SetBranchAddress(\"Tu\",&Tu);   \n",
    "tree->SetBranchAddress(\"Td\",&Td);\n",
    "tree->SetBranchAddress(\"Qu\",&Qu);   \n",
    "tree->SetBranchAddress(\"Qd\",&Qd);"
   ]
  },
  {
   "cell_type": "code",
   "execution_count": 4,
   "id": "c5ad05b8",
   "metadata": {},
   "outputs": [
    {
     "name": "stdout",
     "output_type": "stream",
     "text": [
      "process 0 of 100000\n",
      "process 10000 of 100000\n",
      "process 20000 of 100000\n",
      "process 30000 of 100000\n",
      "process 40000 of 100000\n",
      "process 50000 of 100000\n",
      "process 60000 of 100000\n",
      "process 70000 of 100000\n",
      "process 80000 of 100000\n",
      "process 90000 of 100000\n"
     ]
    }
   ],
   "source": [
    "TCanvas *c1=new TCanvas();\n",
    "c1->Clear();\n",
    "TH1D *hTOF= new TH1D(\"hTOF\",\"Time of flight\", 1000,0,100);\n",
    "//root2 对应变量\n",
    "Double_t tu,td,ctof,cx;\n",
    "\n",
    "\n",
    "//\n",
    "TFile *opf=new TFile(\"tree2.root\",\"recreate\");\n",
    "opf->cd();\n",
    "TTree *opt=new TTree(\"tree\",\"tree\");\n",
    "opt->Branch(\"tu\",&tu,\"tu/D\");\n",
    "opt->Branch(\"td\",&td,\"td/D\");\n",
    "opt->Branch(\"ctof\",&ctof,\"ctof/D\");\n",
    "opt->Branch(\"cx\",&cx,\"cx/D\");\n",
    "Long64_t nentries=tree->GetEntries();\n",
    "for(Long64_t jentry=0; jentry<nentries; jentry++) {\n",
    "    tree->GetEntry(jentry);\n",
    "    hTOF->Fill(CTOF);\n",
    "    tu=Tu;\n",
    "    td=Td;\n",
    "    cx=(Tu-Td)/2;\n",
    "    ctof=(Tu+Td)/2;\n",
    "    opt->Fill();\n",
    "    if(jentry%10000==0) cout<<\"process \"<<jentry<<\" of \"<<nentries<<endl;\n",
    "}\n",
    "hTOF->Draw();\n",
    "ipf->Close();\n",
    "opt->Write();\n",
    "opf->Close();"
   ]
  },
  {
   "cell_type": "code",
   "execution_count": 5,
   "id": "2d2973c5",
   "metadata": {},
   "outputs": [
    {
     "name": "stdout",
     "output_type": "stream",
     "text": [
      "TFile**\t\ttree2.root\t\n",
      " TFile*\t\ttree2.root\t\n",
      "  KEY: TTree\ttree;1\ttree\n"
     ]
    }
   ],
   "source": [
    "TFile *ipf=new TFile(\"tree2.root\");\n",
    "ipf->ls()"
   ]
  },
  {
   "cell_type": "code",
   "execution_count": 6,
   "id": "867c076b",
   "metadata": {},
   "outputs": [
    {
     "name": "stdout",
     "output_type": "stream",
     "text": [
      "******************************************************************************\n",
      "*Tree    :tree      : tree                                                   *\n",
      "*Entries :   100000 : Total =         3210872 bytes  File  Size =    2990686 *\n",
      "*        :          : Tree compression factor =   1.07                       *\n",
      "******************************************************************************\n",
      "*Br    0 :tu        : tu/D                                                   *\n",
      "*Entries :   100000 : Total  Size=     802615 bytes  File Size  =     750230 *\n",
      "*Baskets :       26 : Basket Size=      32000 bytes  Compression=   1.07     *\n",
      "*............................................................................*\n",
      "*Br    1 :td        : td/D                                                   *\n",
      "*Entries :   100000 : Total  Size=     802615 bytes  File Size  =     745533 *\n",
      "*Baskets :       26 : Basket Size=      32000 bytes  Compression=   1.08     *\n",
      "*............................................................................*\n",
      "*Br    2 :ctof      : ctof/D                                                 *\n",
      "*Entries :   100000 : Total  Size=     802675 bytes  File Size  =     741508 *\n",
      "*Baskets :       26 : Basket Size=      32000 bytes  Compression=   1.08     *\n",
      "*............................................................................*\n",
      "*Br    3 :cx        : cx/D                                                   *\n",
      "*Entries :   100000 : Total  Size=     802615 bytes  File Size  =     752066 *\n",
      "*Baskets :       26 : Basket Size=      32000 bytes  Compression=   1.07     *\n",
      "*............................................................................*\n"
     ]
    }
   ],
   "source": [
    "TTree *tree=(TTree*)ipf->Get(\"tree\");\n",
    "tree->Print()"
   ]
  },
  {
   "cell_type": "code",
   "execution_count": 7,
   "id": "634c062c",
   "metadata": {},
   "outputs": [
    {
     "name": "stdout",
     "output_type": "stream",
     "text": [
      "======> EVENT:1\n",
      " tu              = 58.514\n",
      " td              = 71.7367\n",
      " ctof            = 65.1254\n",
      " cx              = -6.61135\n"
     ]
    }
   ],
   "source": [
    "tree->Show(1);"
   ]
  },
  {
   "cell_type": "code",
   "execution_count": 8,
   "id": "46e7a7c4",
   "metadata": {},
   "outputs": [
    {
     "data": {
      "image/png": "[encoded data removed]",
      "text/plain": [
       "<IPython.core.display.Image object>"
      ]
     },
     "metadata": {},
     "output_type": "display_data"
    }
   ],
   "source": [
    "TCanvas *c1=new TCanvas();//* 在ROOT环境下可省略\n",
    "c1->Clear();//* 在ROOT环境下可省略\n",
    "tree->Draw(\"td-tu>>htx(500,-20,50)\");//位置一维分布\n",
    "c1->Draw();"
   ]
  },
  {
   "cell_type": "code",
   "execution_count": null,
   "id": "5aa109da",
   "metadata": {},
   "outputs": [],
   "source": []
  }
 ],
 "metadata": {
  "kernelspec": {
   "display_name": "ROOT C++",
   "language": "c++",
   "name": "root"
  },
  "language_info": {
   "codemirror_mode": "text/x-c++src",
   "file_extension": ".C",
   "mimetype": " text/x-c++src",
   "name": "c++"
  }
 },
 "nbformat": 4,
 "nbformat_minor": 5
}
